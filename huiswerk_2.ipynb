{
  "nbformat": 4,
  "nbformat_minor": 0,
  "metadata": {
    "colab": {
      "name": "huiswerk 2.ipynb",
      "provenance": [],
      "toc_visible": true
    },
    "kernelspec": {
      "name": "python3",
      "display_name": "Python 3"
    },
    "language_info": {
      "name": "python"
    }
  },
  "cells": [
    {
      "cell_type": "code",
      "execution_count": null,
      "metadata": {
        "id": "0WcSiWbuujjP"
      },
      "outputs": [],
      "source": [
        "import pandas as pd\n",
        "import numpy as np\n",
        "np.random.seed(42)\n",
        "veri1 = np.random.normal(10000, 1000, 500).astype(int)\n",
        "veri2 = np.random.normal(9000, 900, 500).astype(int)\n",
        "veri3 = np.random.normal(12000, 1200, 500).astype(int)\n",
        "veri4 = np.random.normal(10000, 950, 500).astype(int)\n",
        "df = pd.DataFrame(np.array([veri1,veri2,veri3,veri4]).T, columns=['A_once','B_once','A_sonra','B_sonra'])\n",
        "olcum = df.copy()"
      ]
    },
    {
      "cell_type": "code",
      "source": [
        "olcum"
      ],
      "metadata": {
        "colab": {
          "base_uri": "https://localhost:8080/",
          "height": 423
        },
        "id": "iH4HFA0LzZZd",
        "outputId": "a50c3956-5a7f-4eb2-8b7a-3210c92fdf3e"
      },
      "execution_count": null,
      "outputs": [
        {
          "output_type": "execute_result",
          "data": {
            "text/html": [
              "\n",
              "  <div id=\"df-df156bf5-21b2-44ee-9ee4-b0e89e1c771e\">\n",
              "    <div class=\"colab-df-container\">\n",
              "      <div>\n",
              "<style scoped>\n",
              "    .dataframe tbody tr th:only-of-type {\n",
              "        vertical-align: middle;\n",
              "    }\n",
              "\n",
              "    .dataframe tbody tr th {\n",
              "        vertical-align: top;\n",
              "    }\n",
              "\n",
              "    .dataframe thead th {\n",
              "        text-align: right;\n",
              "    }\n",
              "</style>\n",
              "<table border=\"1\" class=\"dataframe\">\n",
              "  <thead>\n",
              "    <tr style=\"text-align: right;\">\n",
              "      <th></th>\n",
              "      <th>A_once</th>\n",
              "      <th>B_once</th>\n",
              "      <th>A_sonra</th>\n",
              "      <th>B_sonra</th>\n",
              "    </tr>\n",
              "  </thead>\n",
              "  <tbody>\n",
              "    <tr>\n",
              "      <th>0</th>\n",
              "      <td>10496</td>\n",
              "      <td>9833</td>\n",
              "      <td>13679</td>\n",
              "      <td>10739</td>\n",
              "    </tr>\n",
              "    <tr>\n",
              "      <th>1</th>\n",
              "      <td>9861</td>\n",
              "      <td>10718</td>\n",
              "      <td>13109</td>\n",
              "      <td>9476</td>\n",
              "    </tr>\n",
              "    <tr>\n",
              "      <th>2</th>\n",
              "      <td>10647</td>\n",
              "      <td>7741</td>\n",
              "      <td>12071</td>\n",
              "      <td>9222</td>\n",
              "    </tr>\n",
              "    <tr>\n",
              "      <th>3</th>\n",
              "      <td>11523</td>\n",
              "      <td>9506</td>\n",
              "      <td>11223</td>\n",
              "      <td>9996</td>\n",
              "    </tr>\n",
              "    <tr>\n",
              "      <th>4</th>\n",
              "      <td>9765</td>\n",
              "      <td>8414</td>\n",
              "      <td>12837</td>\n",
              "      <td>9838</td>\n",
              "    </tr>\n",
              "    <tr>\n",
              "      <th>...</th>\n",
              "      <td>...</td>\n",
              "      <td>...</td>\n",
              "      <td>...</td>\n",
              "      <td>...</td>\n",
              "    </tr>\n",
              "    <tr>\n",
              "      <th>495</th>\n",
              "      <td>10538</td>\n",
              "      <td>8747</td>\n",
              "      <td>14407</td>\n",
              "      <td>11016</td>\n",
              "    </tr>\n",
              "    <tr>\n",
              "      <th>496</th>\n",
              "      <td>8962</td>\n",
              "      <td>10617</td>\n",
              "      <td>14473</td>\n",
              "      <td>9974</td>\n",
              "    </tr>\n",
              "    <tr>\n",
              "      <th>497</th>\n",
              "      <td>9809</td>\n",
              "      <td>9576</td>\n",
              "      <td>13450</td>\n",
              "      <td>9162</td>\n",
              "    </tr>\n",
              "    <tr>\n",
              "      <th>498</th>\n",
              "      <td>9124</td>\n",
              "      <td>8485</td>\n",
              "      <td>13228</td>\n",
              "      <td>9845</td>\n",
              "    </tr>\n",
              "    <tr>\n",
              "      <th>499</th>\n",
              "      <td>8617</td>\n",
              "      <td>9515</td>\n",
              "      <td>12711</td>\n",
              "      <td>9292</td>\n",
              "    </tr>\n",
              "  </tbody>\n",
              "</table>\n",
              "<p>500 rows × 4 columns</p>\n",
              "</div>\n",
              "      <button class=\"colab-df-convert\" onclick=\"convertToInteractive('df-df156bf5-21b2-44ee-9ee4-b0e89e1c771e')\"\n",
              "              title=\"Convert this dataframe to an interactive table.\"\n",
              "              style=\"display:none;\">\n",
              "        \n",
              "  <svg xmlns=\"http://www.w3.org/2000/svg\" height=\"24px\"viewBox=\"0 0 24 24\"\n",
              "       width=\"24px\">\n",
              "    <path d=\"M0 0h24v24H0V0z\" fill=\"none\"/>\n",
              "    <path d=\"M18.56 5.44l.94 2.06.94-2.06 2.06-.94-2.06-.94-.94-2.06-.94 2.06-2.06.94zm-11 1L8.5 8.5l.94-2.06 2.06-.94-2.06-.94L8.5 2.5l-.94 2.06-2.06.94zm10 10l.94 2.06.94-2.06 2.06-.94-2.06-.94-.94-2.06-.94 2.06-2.06.94z\"/><path d=\"M17.41 7.96l-1.37-1.37c-.4-.4-.92-.59-1.43-.59-.52 0-1.04.2-1.43.59L10.3 9.45l-7.72 7.72c-.78.78-.78 2.05 0 2.83L4 21.41c.39.39.9.59 1.41.59.51 0 1.02-.2 1.41-.59l7.78-7.78 2.81-2.81c.8-.78.8-2.07 0-2.86zM5.41 20L4 18.59l7.72-7.72 1.47 1.35L5.41 20z\"/>\n",
              "  </svg>\n",
              "      </button>\n",
              "      \n",
              "  <style>\n",
              "    .colab-df-container {\n",
              "      display:flex;\n",
              "      flex-wrap:wrap;\n",
              "      gap: 12px;\n",
              "    }\n",
              "\n",
              "    .colab-df-convert {\n",
              "      background-color: #E8F0FE;\n",
              "      border: none;\n",
              "      border-radius: 50%;\n",
              "      cursor: pointer;\n",
              "      display: none;\n",
              "      fill: #1967D2;\n",
              "      height: 32px;\n",
              "      padding: 0 0 0 0;\n",
              "      width: 32px;\n",
              "    }\n",
              "\n",
              "    .colab-df-convert:hover {\n",
              "      background-color: #E2EBFA;\n",
              "      box-shadow: 0px 1px 2px rgba(60, 64, 67, 0.3), 0px 1px 3px 1px rgba(60, 64, 67, 0.15);\n",
              "      fill: #174EA6;\n",
              "    }\n",
              "\n",
              "    [theme=dark] .colab-df-convert {\n",
              "      background-color: #3B4455;\n",
              "      fill: #D2E3FC;\n",
              "    }\n",
              "\n",
              "    [theme=dark] .colab-df-convert:hover {\n",
              "      background-color: #434B5C;\n",
              "      box-shadow: 0px 1px 3px 1px rgba(0, 0, 0, 0.15);\n",
              "      filter: drop-shadow(0px 1px 2px rgba(0, 0, 0, 0.3));\n",
              "      fill: #FFFFFF;\n",
              "    }\n",
              "  </style>\n",
              "\n",
              "      <script>\n",
              "        const buttonEl =\n",
              "          document.querySelector('#df-df156bf5-21b2-44ee-9ee4-b0e89e1c771e button.colab-df-convert');\n",
              "        buttonEl.style.display =\n",
              "          google.colab.kernel.accessAllowed ? 'block' : 'none';\n",
              "\n",
              "        async function convertToInteractive(key) {\n",
              "          const element = document.querySelector('#df-df156bf5-21b2-44ee-9ee4-b0e89e1c771e');\n",
              "          const dataTable =\n",
              "            await google.colab.kernel.invokeFunction('convertToInteractive',\n",
              "                                                     [key], {});\n",
              "          if (!dataTable) return;\n",
              "\n",
              "          const docLinkHtml = 'Like what you see? Visit the ' +\n",
              "            '<a target=\"_blank\" href=https://colab.research.google.com/notebooks/data_table.ipynb>data table notebook</a>'\n",
              "            + ' to learn more about interactive tables.';\n",
              "          element.innerHTML = '';\n",
              "          dataTable['output_type'] = 'display_data';\n",
              "          await google.colab.output.renderOutput(dataTable, element);\n",
              "          const docLink = document.createElement('div');\n",
              "          docLink.innerHTML = docLinkHtml;\n",
              "          element.appendChild(docLink);\n",
              "        }\n",
              "      </script>\n",
              "    </div>\n",
              "  </div>\n",
              "  "
            ],
            "text/plain": [
              "     A_once  B_once  A_sonra  B_sonra\n",
              "0     10496    9833    13679    10739\n",
              "1      9861   10718    13109     9476\n",
              "2     10647    7741    12071     9222\n",
              "3     11523    9506    11223     9996\n",
              "4      9765    8414    12837     9838\n",
              "..      ...     ...      ...      ...\n",
              "495   10538    8747    14407    11016\n",
              "496    8962   10617    14473     9974\n",
              "497    9809    9576    13450     9162\n",
              "498    9124    8485    13228     9845\n",
              "499    8617    9515    12711     9292\n",
              "\n",
              "[500 rows x 4 columns]"
            ]
          },
          "metadata": {},
          "execution_count": 6
        }
      ]
    },
    {
      "cell_type": "code",
      "source": [
        "olcum.describe().T"
      ],
      "metadata": {
        "colab": {
          "base_uri": "https://localhost:8080/",
          "height": 218
        },
        "id": "Dii5NsEYzhvC",
        "outputId": "abe05818-c007-4517-fa50-4b3fd106b8bd"
      },
      "execution_count": null,
      "outputs": [
        {
          "output_type": "execute_result",
          "data": {
            "text/html": [
              "\n",
              "  <div id=\"df-e770f41b-fb26-41ff-939c-2182d148c293\">\n",
              "    <div class=\"colab-df-container\">\n",
              "      <div>\n",
              "<style scoped>\n",
              "    .dataframe tbody tr th:only-of-type {\n",
              "        vertical-align: middle;\n",
              "    }\n",
              "\n",
              "    .dataframe tbody tr th {\n",
              "        vertical-align: top;\n",
              "    }\n",
              "\n",
              "    .dataframe thead th {\n",
              "        text-align: right;\n",
              "    }\n",
              "</style>\n",
              "<table border=\"1\" class=\"dataframe\">\n",
              "  <thead>\n",
              "    <tr style=\"text-align: right;\">\n",
              "      <th></th>\n",
              "      <th>count</th>\n",
              "      <th>mean</th>\n",
              "      <th>std</th>\n",
              "      <th>min</th>\n",
              "      <th>25%</th>\n",
              "      <th>50%</th>\n",
              "      <th>75%</th>\n",
              "      <th>max</th>\n",
              "    </tr>\n",
              "  </thead>\n",
              "  <tbody>\n",
              "    <tr>\n",
              "      <th>A_once</th>\n",
              "      <td>500.0</td>\n",
              "      <td>10006.336</td>\n",
              "      <td>981.255496</td>\n",
              "      <td>6758.0</td>\n",
              "      <td>9299.25</td>\n",
              "      <td>10012.5</td>\n",
              "      <td>10636.00</td>\n",
              "      <td>13852.0</td>\n",
              "    </tr>\n",
              "    <tr>\n",
              "      <th>B_once</th>\n",
              "      <td>500.0</td>\n",
              "      <td>9028.146</td>\n",
              "      <td>880.197872</td>\n",
              "      <td>6572.0</td>\n",
              "      <td>8463.50</td>\n",
              "      <td>9025.0</td>\n",
              "      <td>9585.75</td>\n",
              "      <td>11369.0</td>\n",
              "    </tr>\n",
              "    <tr>\n",
              "      <th>A_sonra</th>\n",
              "      <td>500.0</td>\n",
              "      <td>12129.684</td>\n",
              "      <td>1212.298473</td>\n",
              "      <td>8524.0</td>\n",
              "      <td>11276.75</td>\n",
              "      <td>12143.5</td>\n",
              "      <td>12905.50</td>\n",
              "      <td>15122.0</td>\n",
              "    </tr>\n",
              "    <tr>\n",
              "      <th>B_sonra</th>\n",
              "      <td>500.0</td>\n",
              "      <td>10031.004</td>\n",
              "      <td>934.875836</td>\n",
              "      <td>7206.0</td>\n",
              "      <td>9418.00</td>\n",
              "      <td>9991.0</td>\n",
              "      <td>10664.50</td>\n",
              "      <td>13033.0</td>\n",
              "    </tr>\n",
              "  </tbody>\n",
              "</table>\n",
              "</div>\n",
              "      <button class=\"colab-df-convert\" onclick=\"convertToInteractive('df-e770f41b-fb26-41ff-939c-2182d148c293')\"\n",
              "              title=\"Convert this dataframe to an interactive table.\"\n",
              "              style=\"display:none;\">\n",
              "        \n",
              "  <svg xmlns=\"http://www.w3.org/2000/svg\" height=\"24px\"viewBox=\"0 0 24 24\"\n",
              "       width=\"24px\">\n",
              "    <path d=\"M0 0h24v24H0V0z\" fill=\"none\"/>\n",
              "    <path d=\"M18.56 5.44l.94 2.06.94-2.06 2.06-.94-2.06-.94-.94-2.06-.94 2.06-2.06.94zm-11 1L8.5 8.5l.94-2.06 2.06-.94-2.06-.94L8.5 2.5l-.94 2.06-2.06.94zm10 10l.94 2.06.94-2.06 2.06-.94-2.06-.94-.94-2.06-.94 2.06-2.06.94z\"/><path d=\"M17.41 7.96l-1.37-1.37c-.4-.4-.92-.59-1.43-.59-.52 0-1.04.2-1.43.59L10.3 9.45l-7.72 7.72c-.78.78-.78 2.05 0 2.83L4 21.41c.39.39.9.59 1.41.59.51 0 1.02-.2 1.41-.59l7.78-7.78 2.81-2.81c.8-.78.8-2.07 0-2.86zM5.41 20L4 18.59l7.72-7.72 1.47 1.35L5.41 20z\"/>\n",
              "  </svg>\n",
              "      </button>\n",
              "      \n",
              "  <style>\n",
              "    .colab-df-container {\n",
              "      display:flex;\n",
              "      flex-wrap:wrap;\n",
              "      gap: 12px;\n",
              "    }\n",
              "\n",
              "    .colab-df-convert {\n",
              "      background-color: #E8F0FE;\n",
              "      border: none;\n",
              "      border-radius: 50%;\n",
              "      cursor: pointer;\n",
              "      display: none;\n",
              "      fill: #1967D2;\n",
              "      height: 32px;\n",
              "      padding: 0 0 0 0;\n",
              "      width: 32px;\n",
              "    }\n",
              "\n",
              "    .colab-df-convert:hover {\n",
              "      background-color: #E2EBFA;\n",
              "      box-shadow: 0px 1px 2px rgba(60, 64, 67, 0.3), 0px 1px 3px 1px rgba(60, 64, 67, 0.15);\n",
              "      fill: #174EA6;\n",
              "    }\n",
              "\n",
              "    [theme=dark] .colab-df-convert {\n",
              "      background-color: #3B4455;\n",
              "      fill: #D2E3FC;\n",
              "    }\n",
              "\n",
              "    [theme=dark] .colab-df-convert:hover {\n",
              "      background-color: #434B5C;\n",
              "      box-shadow: 0px 1px 3px 1px rgba(0, 0, 0, 0.15);\n",
              "      filter: drop-shadow(0px 1px 2px rgba(0, 0, 0, 0.3));\n",
              "      fill: #FFFFFF;\n",
              "    }\n",
              "  </style>\n",
              "\n",
              "      <script>\n",
              "        const buttonEl =\n",
              "          document.querySelector('#df-e770f41b-fb26-41ff-939c-2182d148c293 button.colab-df-convert');\n",
              "        buttonEl.style.display =\n",
              "          google.colab.kernel.accessAllowed ? 'block' : 'none';\n",
              "\n",
              "        async function convertToInteractive(key) {\n",
              "          const element = document.querySelector('#df-e770f41b-fb26-41ff-939c-2182d148c293');\n",
              "          const dataTable =\n",
              "            await google.colab.kernel.invokeFunction('convertToInteractive',\n",
              "                                                     [key], {});\n",
              "          if (!dataTable) return;\n",
              "\n",
              "          const docLinkHtml = 'Like what you see? Visit the ' +\n",
              "            '<a target=\"_blank\" href=https://colab.research.google.com/notebooks/data_table.ipynb>data table notebook</a>'\n",
              "            + ' to learn more about interactive tables.';\n",
              "          element.innerHTML = '';\n",
              "          dataTable['output_type'] = 'display_data';\n",
              "          await google.colab.output.renderOutput(dataTable, element);\n",
              "          const docLink = document.createElement('div');\n",
              "          docLink.innerHTML = docLinkHtml;\n",
              "          element.appendChild(docLink);\n",
              "        }\n",
              "      </script>\n",
              "    </div>\n",
              "  </div>\n",
              "  "
            ],
            "text/plain": [
              "         count       mean          std  ...      50%       75%      max\n",
              "A_once   500.0  10006.336   981.255496  ...  10012.5  10636.00  13852.0\n",
              "B_once   500.0   9028.146   880.197872  ...   9025.0   9585.75  11369.0\n",
              "A_sonra  500.0  12129.684  1212.298473  ...  12143.5  12905.50  15122.0\n",
              "B_sonra  500.0  10031.004   934.875836  ...   9991.0  10664.50  13033.0\n",
              "\n",
              "[4 rows x 8 columns]"
            ]
          },
          "metadata": {},
          "execution_count": 4
        }
      ]
    },
    {
      "cell_type": "code",
      "source": [
        "olcum.describe(include='all').T"
      ],
      "metadata": {
        "colab": {
          "base_uri": "https://localhost:8080/",
          "height": 218
        },
        "id": "OAZVSZhW4769",
        "outputId": "14d54aa9-256e-4dd2-ca50-53f49da9698c"
      },
      "execution_count": null,
      "outputs": [
        {
          "output_type": "execute_result",
          "data": {
            "text/html": [
              "\n",
              "  <div id=\"df-e57ad58a-3461-4f86-bbfc-17b38fa8e3ae\">\n",
              "    <div class=\"colab-df-container\">\n",
              "      <div>\n",
              "<style scoped>\n",
              "    .dataframe tbody tr th:only-of-type {\n",
              "        vertical-align: middle;\n",
              "    }\n",
              "\n",
              "    .dataframe tbody tr th {\n",
              "        vertical-align: top;\n",
              "    }\n",
              "\n",
              "    .dataframe thead th {\n",
              "        text-align: right;\n",
              "    }\n",
              "</style>\n",
              "<table border=\"1\" class=\"dataframe\">\n",
              "  <thead>\n",
              "    <tr style=\"text-align: right;\">\n",
              "      <th></th>\n",
              "      <th>count</th>\n",
              "      <th>mean</th>\n",
              "      <th>std</th>\n",
              "      <th>min</th>\n",
              "      <th>25%</th>\n",
              "      <th>50%</th>\n",
              "      <th>75%</th>\n",
              "      <th>max</th>\n",
              "    </tr>\n",
              "  </thead>\n",
              "  <tbody>\n",
              "    <tr>\n",
              "      <th>A_once</th>\n",
              "      <td>500.0</td>\n",
              "      <td>10006.336</td>\n",
              "      <td>981.255496</td>\n",
              "      <td>6758.0</td>\n",
              "      <td>9299.25</td>\n",
              "      <td>10012.5</td>\n",
              "      <td>10636.00</td>\n",
              "      <td>13852.0</td>\n",
              "    </tr>\n",
              "    <tr>\n",
              "      <th>B_once</th>\n",
              "      <td>500.0</td>\n",
              "      <td>9028.146</td>\n",
              "      <td>880.197872</td>\n",
              "      <td>6572.0</td>\n",
              "      <td>8463.50</td>\n",
              "      <td>9025.0</td>\n",
              "      <td>9585.75</td>\n",
              "      <td>11369.0</td>\n",
              "    </tr>\n",
              "    <tr>\n",
              "      <th>A_sonra</th>\n",
              "      <td>500.0</td>\n",
              "      <td>12129.684</td>\n",
              "      <td>1212.298473</td>\n",
              "      <td>8524.0</td>\n",
              "      <td>11276.75</td>\n",
              "      <td>12143.5</td>\n",
              "      <td>12905.50</td>\n",
              "      <td>15122.0</td>\n",
              "    </tr>\n",
              "    <tr>\n",
              "      <th>B_sonra</th>\n",
              "      <td>500.0</td>\n",
              "      <td>10031.004</td>\n",
              "      <td>934.875836</td>\n",
              "      <td>7206.0</td>\n",
              "      <td>9418.00</td>\n",
              "      <td>9991.0</td>\n",
              "      <td>10664.50</td>\n",
              "      <td>13033.0</td>\n",
              "    </tr>\n",
              "  </tbody>\n",
              "</table>\n",
              "</div>\n",
              "      <button class=\"colab-df-convert\" onclick=\"convertToInteractive('df-e57ad58a-3461-4f86-bbfc-17b38fa8e3ae')\"\n",
              "              title=\"Convert this dataframe to an interactive table.\"\n",
              "              style=\"display:none;\">\n",
              "        \n",
              "  <svg xmlns=\"http://www.w3.org/2000/svg\" height=\"24px\"viewBox=\"0 0 24 24\"\n",
              "       width=\"24px\">\n",
              "    <path d=\"M0 0h24v24H0V0z\" fill=\"none\"/>\n",
              "    <path d=\"M18.56 5.44l.94 2.06.94-2.06 2.06-.94-2.06-.94-.94-2.06-.94 2.06-2.06.94zm-11 1L8.5 8.5l.94-2.06 2.06-.94-2.06-.94L8.5 2.5l-.94 2.06-2.06.94zm10 10l.94 2.06.94-2.06 2.06-.94-2.06-.94-.94-2.06-.94 2.06-2.06.94z\"/><path d=\"M17.41 7.96l-1.37-1.37c-.4-.4-.92-.59-1.43-.59-.52 0-1.04.2-1.43.59L10.3 9.45l-7.72 7.72c-.78.78-.78 2.05 0 2.83L4 21.41c.39.39.9.59 1.41.59.51 0 1.02-.2 1.41-.59l7.78-7.78 2.81-2.81c.8-.78.8-2.07 0-2.86zM5.41 20L4 18.59l7.72-7.72 1.47 1.35L5.41 20z\"/>\n",
              "  </svg>\n",
              "      </button>\n",
              "      \n",
              "  <style>\n",
              "    .colab-df-container {\n",
              "      display:flex;\n",
              "      flex-wrap:wrap;\n",
              "      gap: 12px;\n",
              "    }\n",
              "\n",
              "    .colab-df-convert {\n",
              "      background-color: #E8F0FE;\n",
              "      border: none;\n",
              "      border-radius: 50%;\n",
              "      cursor: pointer;\n",
              "      display: none;\n",
              "      fill: #1967D2;\n",
              "      height: 32px;\n",
              "      padding: 0 0 0 0;\n",
              "      width: 32px;\n",
              "    }\n",
              "\n",
              "    .colab-df-convert:hover {\n",
              "      background-color: #E2EBFA;\n",
              "      box-shadow: 0px 1px 2px rgba(60, 64, 67, 0.3), 0px 1px 3px 1px rgba(60, 64, 67, 0.15);\n",
              "      fill: #174EA6;\n",
              "    }\n",
              "\n",
              "    [theme=dark] .colab-df-convert {\n",
              "      background-color: #3B4455;\n",
              "      fill: #D2E3FC;\n",
              "    }\n",
              "\n",
              "    [theme=dark] .colab-df-convert:hover {\n",
              "      background-color: #434B5C;\n",
              "      box-shadow: 0px 1px 3px 1px rgba(0, 0, 0, 0.15);\n",
              "      filter: drop-shadow(0px 1px 2px rgba(0, 0, 0, 0.3));\n",
              "      fill: #FFFFFF;\n",
              "    }\n",
              "  </style>\n",
              "\n",
              "      <script>\n",
              "        const buttonEl =\n",
              "          document.querySelector('#df-e57ad58a-3461-4f86-bbfc-17b38fa8e3ae button.colab-df-convert');\n",
              "        buttonEl.style.display =\n",
              "          google.colab.kernel.accessAllowed ? 'block' : 'none';\n",
              "\n",
              "        async function convertToInteractive(key) {\n",
              "          const element = document.querySelector('#df-e57ad58a-3461-4f86-bbfc-17b38fa8e3ae');\n",
              "          const dataTable =\n",
              "            await google.colab.kernel.invokeFunction('convertToInteractive',\n",
              "                                                     [key], {});\n",
              "          if (!dataTable) return;\n",
              "\n",
              "          const docLinkHtml = 'Like what you see? Visit the ' +\n",
              "            '<a target=\"_blank\" href=https://colab.research.google.com/notebooks/data_table.ipynb>data table notebook</a>'\n",
              "            + ' to learn more about interactive tables.';\n",
              "          element.innerHTML = '';\n",
              "          dataTable['output_type'] = 'display_data';\n",
              "          await google.colab.output.renderOutput(dataTable, element);\n",
              "          const docLink = document.createElement('div');\n",
              "          docLink.innerHTML = docLinkHtml;\n",
              "          element.appendChild(docLink);\n",
              "        }\n",
              "      </script>\n",
              "    </div>\n",
              "  </div>\n",
              "  "
            ],
            "text/plain": [
              "         count       mean          std  ...      50%       75%      max\n",
              "A_once   500.0  10006.336   981.255496  ...  10012.5  10636.00  13852.0\n",
              "B_once   500.0   9028.146   880.197872  ...   9025.0   9585.75  11369.0\n",
              "A_sonra  500.0  12129.684  1212.298473  ...  12143.5  12905.50  15122.0\n",
              "B_sonra  500.0  10031.004   934.875836  ...   9991.0  10664.50  13033.0\n",
              "\n",
              "[4 rows x 8 columns]"
            ]
          },
          "metadata": {},
          "execution_count": 5
        }
      ]
    },
    {
      "cell_type": "code",
      "source": [
        "import seaborn as sns\n"
      ],
      "metadata": {
        "id": "k-Mg-Qsm5D9w"
      },
      "execution_count": null,
      "outputs": []
    },
    {
      "cell_type": "code",
      "source": [
        "sns.heatmap(olcum.corr(), vmin=-1, vmax=1, annot=True)"
      ],
      "metadata": {
        "colab": {
          "base_uri": "https://localhost:8080/",
          "height": 287
        },
        "id": "JGvy3C4yGhlL",
        "outputId": "0ac56764-e20b-4990-fa48-137d5d774efb"
      },
      "execution_count": null,
      "outputs": [
        {
          "output_type": "execute_result",
          "data": {
            "text/plain": [
              "<matplotlib.axes._subplots.AxesSubplot at 0x7fc899825bd0>"
            ]
          },
          "metadata": {},
          "execution_count": 7
        },
        {
          "output_type": "display_data",
          "data": {
            "image/png": "[encoded data removed]",
            "text/plain": [
              "<Figure size 432x288 with 2 Axes>"
            ]
          },
          "metadata": {
            "needs_background": "light"
          }
        }
      ]
    },
    {
      "cell_type": "code",
      "source": [
        "ax = sns.histplot(data=olcum, kde=True)"
      ],
      "metadata": {
        "colab": {
          "base_uri": "https://localhost:8080/",
          "height": 265
        },
        "id": "X7mQccQeAB2a",
        "outputId": "df832819-1747-468e-a8e1-0a9c8f65e687"
      },
      "execution_count": null,
      "outputs": [
        {
          "output_type": "display_data",
          "data": {
            "image/png": "[encoded data removed]",
            "text/plain": [
              "<Figure size 432x288 with 1 Axes>"
            ]
          },
          "metadata": {
            "needs_background": "light"
          }
        }
      ]
    },
    {
      "cell_type": "code",
      "source": [
        "H0 = yokluk hipotezi(normal dagilimla farki yoktur)\n",
        "H1 = fark vardir"
      ],
      "metadata": {
        "id": "ngBhq2a3IOpV"
      },
      "execution_count": null,
      "outputs": []
    },
    {
      "cell_type": "code",
      "source": [
        "from scipy.stats import shapiro"
      ],
      "metadata": {
        "id": "6cjUUJLTA_5m"
      },
      "execution_count": null,
      "outputs": []
    },
    {
      "cell_type": "code",
      "source": [
        "statistic, pvalue = shapiro(olcum)"
      ],
      "metadata": {
        "id": "DAOIEqeMBH1G"
      },
      "execution_count": null,
      "outputs": []
    },
    {
      "cell_type": "code",
      "source": [
        "pvalue"
      ],
      "metadata": {
        "colab": {
          "base_uri": "https://localhost:8080/"
        },
        "id": "RcsCNZjMBnkP",
        "outputId": "c8cb87fb-6182-43c9-d141-34876bc32d6f"
      },
      "execution_count": null,
      "outputs": [
        {
          "output_type": "execute_result",
          "data": {
            "text/plain": [
              "0.4010743498802185"
            ]
          },
          "metadata": {},
          "execution_count": 11
        }
      ]
    },
    {
      "cell_type": "code",
      "source": [
        "if pvalue>0.05:\n",
        "    print(\"h0  reddedilemedi\")\n",
        "else:\n",
        "    print(\"h0 reddedildi\")"
      ],
      "metadata": {
        "colab": {
          "base_uri": "https://localhost:8080/"
        },
        "id": "I1H6tNsJBqzk",
        "outputId": "f3cb5f92-c946-4180-fc8a-acf27fea8df2"
      },
      "execution_count": null,
      "outputs": [
        {
          "output_type": "stream",
          "name": "stdout",
          "text": [
            "h0 reddedildi\n"
          ]
        }
      ]
    },
    {
      "cell_type": "code",
      "source": [
        "from scipy import stats\n",
        "\n",
        "result = stats.ttest_1samp(olcum ,popmean =10000)\n",
        "#print('statistic:',result[0])\n",
        "print('pvalue:',result[1][0])"
      ],
      "metadata": {
        "id": "iK-qsdcGCU9e",
        "colab": {
          "base_uri": "https://localhost:8080/"
        },
        "outputId": "2a377d21-cf12-47a4-913c-e5ba1b90baba"
      },
      "execution_count": null,
      "outputs": [
        {
          "output_type": "stream",
          "name": "stdout",
          "text": [
            "pvalue: 0.8852558068210546\n"
          ]
        }
      ]
    },
    {
      "cell_type": "code",
      "source": [
        "p_value=result[1]\n",
        "if pvalue<0.05:\n",
        "  print('H0 hipotezi reddeilir')\n",
        "else:\n",
        "  print('H0 hipotezi reddedilemez')"
      ],
      "metadata": {
        "colab": {
          "base_uri": "https://localhost:8080/"
        },
        "id": "VakxMlmGekBM",
        "outputId": "c00d9ce7-85cf-46d9-a12f-613589593d6e"
      },
      "execution_count": null,
      "outputs": [
        {
          "output_type": "stream",
          "name": "stdout",
          "text": [
            "H0 hipotezi reddeilir\n"
          ]
        }
      ]
    },
    {
      "cell_type": "code",
      "source": [
        "print(olcum.A_once.head())# bagimli iki orneklem testi"
      ],
      "metadata": {
        "colab": {
          "base_uri": "https://localhost:8080/"
        },
        "id": "258lBuKte2Q5",
        "outputId": "8837a9cb-838b-4a06-d77b-d87e2c84b4ef"
      },
      "execution_count": null,
      "outputs": [
        {
          "output_type": "stream",
          "name": "stdout",
          "text": [
            "0    10496\n",
            "1     9861\n",
            "2    10647\n",
            "3    11523\n",
            "4     9765\n",
            "Name: A_once, dtype: int64\n"
          ]
        }
      ]
    },
    {
      "cell_type": "code",
      "source": [
        "print(olcum.A_sonra.head())"
      ],
      "metadata": {
        "colab": {
          "base_uri": "https://localhost:8080/"
        },
        "id": "rYGF-GSIiKg7",
        "outputId": "917f645b-9725-44b5-f2cb-b584eed60ca9"
      },
      "execution_count": null,
      "outputs": [
        {
          "output_type": "stream",
          "name": "stdout",
          "text": [
            "0    13679\n",
            "1    13109\n",
            "2    12071\n",
            "3    11223\n",
            "4    12837\n",
            "Name: A_sonra, dtype: int64\n"
          ]
        }
      ]
    },
    {
      "cell_type": "code",
      "source": [
        "t_degeri,p_degeri =shapiro(olcum.A_once)#normallik varsayimi  bolge A\n",
        "p_degeri"
      ],
      "metadata": {
        "colab": {
          "base_uri": "https://localhost:8080/"
        },
        "id": "YXfHLFsbiT9q",
        "outputId": "55cc3327-153a-4c46-90fb-0cb193cad1ae"
      },
      "execution_count": null,
      "outputs": [
        {
          "output_type": "execute_result",
          "data": {
            "text/plain": [
              "0.4010743498802185"
            ]
          },
          "metadata": {},
          "execution_count": 12
        }
      ]
    },
    {
      "cell_type": "code",
      "source": [
        "t_degeri,p_degeri =shapiro(olcum.A_once)#normallik varsayimi  bolge A\n",
        "p_degeri"
      ],
      "metadata": {
        "colab": {
          "base_uri": "https://localhost:8080/"
        },
        "id": "eRaHBITKiioC",
        "outputId": "8d5a3f5b-0cd4-4382-9f3a-83812bd5b3d5"
      },
      "execution_count": null,
      "outputs": [
        {
          "output_type": "execute_result",
          "data": {
            "text/plain": [
              "(0.9972554445266724, 0.5761163234710693)"
            ]
          },
          "metadata": {},
          "execution_count": 28
        }
      ]
    },
    {
      "cell_type": "code",
      "source": [
        "stats.levene(olcum.A_once, olcum.A_sonra)# homojenlik testi"
      ],
      "metadata": {
        "colab": {
          "base_uri": "https://localhost:8080/"
        },
        "id": "2xfrfJdVioPi",
        "outputId": "c0ad0a0a-dff6-45f1-8200-045033528821"
      },
      "execution_count": null,
      "outputs": [
        {
          "output_type": "execute_result",
          "data": {
            "text/plain": [
              "LeveneResult(statistic=19.314906231953184, pvalue=1.2269971255268146e-05)"
            ]
          },
          "metadata": {},
          "execution_count": 30
        }
      ]
    },
    {
      "cell_type": "code",
      "source": [
        "if pvalue<0.05:\n",
        "  print('varyans homojenligi hipotezi reddedildi')\n",
        "else:\n",
        "  print('reddedilemedi')"
      ],
      "metadata": {
        "colab": {
          "base_uri": "https://localhost:8080/"
        },
        "id": "SPj03iyUjBxk",
        "outputId": "103da282-e503-4dc1-d378-643dbd5d467b"
      },
      "execution_count": null,
      "outputs": [
        {
          "output_type": "stream",
          "name": "stdout",
          "text": [
            "varyans homojenligi hipotezi reddedildi\n"
          ]
        }
      ]
    },
    {
      "cell_type": "code",
      "source": [
        "test_istatistigi, pvalue = stats.ttest_rel(olcum.A_once, olcum.A_sonra)# bagimli iki orneklem testi"
      ],
      "metadata": {
        "id": "LUKi99R4kztA"
      },
      "execution_count": null,
      "outputs": []
    },
    {
      "cell_type": "code",
      "source": [
        "print('Test İstatistiği = %.4f, p-değeri = %4f' % (test_istatistigi, pvalue))"
      ],
      "metadata": {
        "colab": {
          "base_uri": "https://localhost:8080/"
        },
        "id": "PsYTdtwvk7HL",
        "outputId": "fd666398-6cbc-4587-b05e-726f2fede42e"
      },
      "execution_count": null,
      "outputs": [
        {
          "output_type": "stream",
          "name": "stdout",
          "text": [
            "Test İstatistiği = -29.6166, p-değeri = 0.000000\n"
          ]
        }
      ]
    },
    {
      "cell_type": "code",
      "source": [
        "if pvalue<0.05:\n",
        "  print('diyet ise yaramistir')\n",
        "else:\n",
        "  print('yaramamistir')"
      ],
      "metadata": {
        "colab": {
          "base_uri": "https://localhost:8080/"
        },
        "id": "1hg7lecolMbb",
        "outputId": "044d747d-2259-4ce7-872c-e6405e8594d6"
      },
      "execution_count": null,
      "outputs": [
        {
          "output_type": "stream",
          "name": "stdout",
          "text": [
            "diyet ise yaramistir\n"
          ]
        }
      ]
    },
    {
      "cell_type": "code",
      "source": [
        "shapiro(olcum.B_once)#normallik varsayimi bolge B"
      ],
      "metadata": {
        "colab": {
          "base_uri": "https://localhost:8080/"
        },
        "id": "TVrUM5eqjTs6",
        "outputId": "5689eb07-134a-4f09-9f9c-ae130f972e78"
      },
      "execution_count": null,
      "outputs": [
        {
          "output_type": "execute_result",
          "data": {
            "text/plain": [
              "(0.9975419640541077, 0.6761667728424072)"
            ]
          },
          "metadata": {},
          "execution_count": 33
        }
      ]
    },
    {
      "cell_type": "code",
      "source": [
        "shapiro(olcum.B_sonra)"
      ],
      "metadata": {
        "colab": {
          "base_uri": "https://localhost:8080/"
        },
        "id": "FQyKUZkhj4mU",
        "outputId": "c1b44ec3-d1b2-4eb2-be40-0df786285468"
      },
      "execution_count": null,
      "outputs": [
        {
          "output_type": "execute_result",
          "data": {
            "text/plain": [
              "(0.9972566962242126, 0.5765427947044373)"
            ]
          },
          "metadata": {},
          "execution_count": 34
        }
      ]
    },
    {
      "cell_type": "code",
      "source": [
        "stats.levene(olcum.B_once, olcum.B_sonra)#homojenlik testi B"
      ],
      "metadata": {
        "colab": {
          "base_uri": "https://localhost:8080/"
        },
        "id": "MRKaux5UkHDJ",
        "outputId": "798003f3-0353-43e6-cd84-6fb664082361"
      },
      "execution_count": null,
      "outputs": [
        {
          "output_type": "execute_result",
          "data": {
            "text/plain": [
              "LeveneResult(statistic=0.9544262508710787, pvalue=0.3288319320822076)"
            ]
          },
          "metadata": {},
          "execution_count": 35
        }
      ]
    },
    {
      "cell_type": "code",
      "source": [
        "if pvalue<0.05:\n",
        "  print('varyans homojenligi hipotezi reddedildi')\n",
        "else:\n",
        "  print('reddedilemedi')"
      ],
      "metadata": {
        "colab": {
          "base_uri": "https://localhost:8080/"
        },
        "id": "JJtczk5akNwR",
        "outputId": "38cd9072-73f2-489b-ae6d-824cb4b201b4"
      },
      "execution_count": null,
      "outputs": [
        {
          "output_type": "stream",
          "name": "stdout",
          "text": [
            "varyans homojenligi hipotezi reddedildi\n"
          ]
        }
      ]
    },
    {
      "cell_type": "code",
      "source": [
        "test_istatistigi, pvalue = stats.ttest_rel(olcum.B_once, olcum.B_sonra)# bagimli iki orneklem testi"
      ],
      "metadata": {
        "id": "qUMRKhLBkR4q"
      },
      "execution_count": null,
      "outputs": []
    },
    {
      "cell_type": "code",
      "source": [
        "print('Test İstatistiği = %.4f, p-değeri = %4f' % (test_istatistigi, pvalue))"
      ],
      "metadata": {
        "colab": {
          "base_uri": "https://localhost:8080/"
        },
        "id": "Lp2xA_pwljxi",
        "outputId": "c0253c96-5928-4c06-c6b3-ccea2275eacb"
      },
      "execution_count": null,
      "outputs": [
        {
          "output_type": "stream",
          "name": "stdout",
          "text": [
            "Test İstatistiği = -17.2794, p-değeri = 0.000000\n"
          ]
        }
      ]
    },
    {
      "cell_type": "code",
      "source": [
        "if pvalue<0.05:\n",
        "  print('diyet ise yaramistir')\n",
        "else:\n",
        "  print('yaramamistir')"
      ],
      "metadata": {
        "colab": {
          "base_uri": "https://localhost:8080/"
        },
        "id": "QE_ggI8ulm2i",
        "outputId": "b6abe071-dc38-4a95-8090-0e450e681a3f"
      },
      "execution_count": null,
      "outputs": [
        {
          "output_type": "stream",
          "name": "stdout",
          "text": [
            "diyet ise yaramistir\n"
          ]
        }
      ]
    },
    {
      "cell_type": "code",
      "source": [
        "shapiro(olcum.A_once) # bagimsiz iki orneklem testi"
      ],
      "metadata": {
        "colab": {
          "base_uri": "https://localhost:8080/"
        },
        "id": "qznbip9Glt-t",
        "outputId": "c4e7f276-0745-43cc-af99-b81b311987f8"
      },
      "execution_count": null,
      "outputs": [
        {
          "output_type": "execute_result",
          "data": {
            "text/plain": [
              "(0.9967007040977478, 0.4010743498802185)"
            ]
          },
          "metadata": {},
          "execution_count": 43
        }
      ]
    },
    {
      "cell_type": "code",
      "source": [
        "shapiro(olcum.B_once)#normallik testi"
      ],
      "metadata": {
        "colab": {
          "base_uri": "https://localhost:8080/"
        },
        "id": "YS4lEU8Fnat6",
        "outputId": "dbb51c6b-6b9d-45fd-d766-e556dc89eb9d"
      },
      "execution_count": null,
      "outputs": [
        {
          "output_type": "execute_result",
          "data": {
            "text/plain": [
              "(0.9975419640541077, 0.6761667728424072)"
            ]
          },
          "metadata": {},
          "execution_count": 44
        }
      ]
    },
    {
      "cell_type": "code",
      "source": [
        "stats.levene(olcum.A_once,olcum.B_once)#varyans homojenligi testi"
      ],
      "metadata": {
        "colab": {
          "base_uri": "https://localhost:8080/"
        },
        "id": "jnZNotzand4h",
        "outputId": "d17562eb-3dbc-4a48-cca0-61b590c17d1f"
      },
      "execution_count": null,
      "outputs": [
        {
          "output_type": "execute_result",
          "data": {
            "text/plain": [
              "LeveneResult(statistic=4.755047073460038, pvalue=0.02944544351778234)"
            ]
          },
          "metadata": {},
          "execution_count": 48
        }
      ]
    },
    {
      "cell_type": "code",
      "source": [
        "if pvalue<0.05:\n",
        "  print('varyans homojenligi hipotezi reddedildi')\n",
        "else:\n",
        "  print('reddedilemedi')"
      ],
      "metadata": {
        "colab": {
          "base_uri": "https://localhost:8080/"
        },
        "id": "IYuqz9d9oD8t",
        "outputId": "8c8f0aaa-33b5-420a-c675-73666723623b"
      },
      "execution_count": null,
      "outputs": [
        {
          "output_type": "stream",
          "name": "stdout",
          "text": [
            "varyans homojenligi hipotezi reddedildi\n"
          ]
        }
      ]
    },
    {
      "cell_type": "code",
      "source": [
        "test_istatistigi,pvalue = stats.ttest_ind(olcum.A_once,olcum.B_once, equal_var = True)# a oncesi ve b oncesi\n"
      ],
      "metadata": {
        "id": "OXnYgDCCogE6"
      },
      "execution_count": null,
      "outputs": []
    },
    {
      "cell_type": "code",
      "source": [
        "print('Test istatistiği = %.4f, p-değeri = %.4f'  % (test_istatistigi, pvalue))"
      ],
      "metadata": {
        "colab": {
          "base_uri": "https://localhost:8080/"
        },
        "id": "GzGl1ytGoznS",
        "outputId": "97827915-1bc5-44e8-8315-a02494cf411d"
      },
      "execution_count": null,
      "outputs": [
        {
          "output_type": "stream",
          "name": "stdout",
          "text": [
            "Test istatistiği = -17.2794, p-değeri = 0.0000\n"
          ]
        }
      ]
    },
    {
      "cell_type": "code",
      "source": [
        "if pvalue<0.05:\n",
        "  print('anlamli fark var') # a oncesi ve b oncesi\n",
        "else:\n",
        "  print('yok')"
      ],
      "metadata": {
        "colab": {
          "base_uri": "https://localhost:8080/"
        },
        "id": "DDlvRbZIo-1p",
        "outputId": "0e9c817d-3502-436e-fa01-c512de06fcea"
      },
      "execution_count": null,
      "outputs": [
        {
          "output_type": "stream",
          "name": "stdout",
          "text": [
            "anlamli fark var\n"
          ]
        }
      ]
    },
    {
      "cell_type": "code",
      "source": [
        "shapiro(olcum.A_sonra)# bagimsiz iki orneklem normallik testi"
      ],
      "metadata": {
        "colab": {
          "base_uri": "https://localhost:8080/"
        },
        "id": "wfXMXd5lpjdj",
        "outputId": "3310bc30-66b6-41a7-e5c5-0415f043ee1c"
      },
      "execution_count": null,
      "outputs": [
        {
          "output_type": "execute_result",
          "data": {
            "text/plain": [
              "(0.9972554445266724, 0.5761163234710693)"
            ]
          },
          "metadata": {},
          "execution_count": 51
        }
      ]
    },
    {
      "cell_type": "code",
      "source": [
        "shapiro(olcum.B_sonra)"
      ],
      "metadata": {
        "colab": {
          "base_uri": "https://localhost:8080/"
        },
        "id": "1lxeBXUFqBjD",
        "outputId": "5f357ba0-f84c-41ee-b413-9a20efdc9cbd"
      },
      "execution_count": null,
      "outputs": [
        {
          "output_type": "execute_result",
          "data": {
            "text/plain": [
              "(0.9972566962242126, 0.5765427947044373)"
            ]
          },
          "metadata": {},
          "execution_count": 52
        }
      ]
    },
    {
      "cell_type": "code",
      "source": [
        "stats.levene(olcum.A_sonra,olcum.B_sonra)#varyans homojenligi testi"
      ],
      "metadata": {
        "colab": {
          "base_uri": "https://localhost:8080/"
        },
        "id": "hAUMdC7fqFaB",
        "outputId": "552b097a-b01c-4f65-a9e5-ebe201bf587b"
      },
      "execution_count": null,
      "outputs": [
        {
          "output_type": "execute_result",
          "data": {
            "text/plain": [
              "LeveneResult(statistic=30.155271612118696, pvalue=5.059584074692014e-08)"
            ]
          },
          "metadata": {},
          "execution_count": 53
        }
      ]
    },
    {
      "cell_type": "code",
      "source": [
        "if pvalue<0.05:\n",
        "  print('varyans homojenligi hipotezi reddedildi')\n",
        "else:\n",
        "  print('reddedilemedi')"
      ],
      "metadata": {
        "colab": {
          "base_uri": "https://localhost:8080/"
        },
        "id": "rinZLyCvqXQA",
        "outputId": "97b445da-cdc8-4f41-bdba-512bcc06caee"
      },
      "execution_count": null,
      "outputs": [
        {
          "output_type": "stream",
          "name": "stdout",
          "text": [
            "varyans homojenligi hipotezi reddedildi\n"
          ]
        }
      ]
    },
    {
      "cell_type": "code",
      "source": [
        "test_istatistigi,pvalue = stats.ttest_ind(olcum.A_sonra,olcum.B_sonra, equal_var = True)# a sonrasi ve b sonrasi"
      ],
      "metadata": {
        "id": "82CvPdXtqo0h"
      },
      "execution_count": null,
      "outputs": []
    },
    {
      "cell_type": "code",
      "source": [
        "print('Test istatistiği = %.4f, p-değeri = %.4f'  % (test_istatistigi, pvalue))"
      ],
      "metadata": {
        "colab": {
          "base_uri": "https://localhost:8080/"
        },
        "id": "fOlGFUVmrhde",
        "outputId": "06c866ec-00e4-47b0-c6e9-dce629e0b99e"
      },
      "execution_count": null,
      "outputs": [
        {
          "output_type": "stream",
          "name": "stdout",
          "text": [
            "Test istatistiği = 30.6538, p-değeri = 0.0000\n"
          ]
        }
      ]
    },
    {
      "cell_type": "code",
      "source": [
        "if pvalue<0.05:\n",
        "  print('anlamli fark var') # a sonrasi ve b sonrasi\n",
        "else:\n",
        "  print('yok')\n"
      ],
      "metadata": {
        "colab": {
          "base_uri": "https://localhost:8080/"
        },
        "id": "-FBqWpKPrk2Z",
        "outputId": "de84b35d-4f0e-4371-e78a-a3befd99511b"
      },
      "execution_count": null,
      "outputs": [
        {
          "output_type": "stream",
          "name": "stdout",
          "text": [
            "anlamli fark var\n"
          ]
        }
      ]
    },
    {
      "cell_type": "code",
      "source": [
        ""
      ],
      "metadata": {
        "id": "8LRVmMKdro05"
      },
      "execution_count": null,
      "outputs": []
    }
  ]
}